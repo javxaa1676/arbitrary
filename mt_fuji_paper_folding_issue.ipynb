{
 "cells": [
  {
   "cell_type": "markdown",
   "id": "50d420b1-8a59-4faf-84e0-a5cce0c52dc5",
   "metadata": {},
   "source": [
    "[Problem 1] How many times to fold paper to exceed the height of Mt.Fuji?"
   ]
  },
  {
   "cell_type": "code",
   "execution_count": 1,
   "id": "eab43b69-7683-45fe-978a-a737b5963a11",
   "metadata": {},
   "outputs": [
    {
     "name": "stdout",
     "output_type": "stream",
     "text": [
      "Number of folds 26 that paper can be higher than Mt.Fuji\n"
     ]
    }
   ],
   "source": [
    "import math\n",
    "\n",
    "thickness = 0.00008\n",
    "mt_fuji_height = 3776\n",
    "\n",
    "folds = math.ceil(math.log2(mt_fuji_height/thickness))\n",
    "print(f\"Number of folds {folds} that paper can be higher than Mt.Fuji\")"
   ]
  },
  {
   "cell_type": "code",
   "execution_count": 2,
   "id": "8b569f7b-b42b-4517-b701-661999ff3d4d",
   "metadata": {},
   "outputs": [
    {
     "name": "stdout",
     "output_type": "stream",
     "text": [
      "5368.70912\n"
     ]
    }
   ],
   "source": [
    "# checking \n",
    "print(thickness*(2**(folds)))"
   ]
  },
  {
   "cell_type": "markdown",
   "id": "f250f3cb-5bb9-4cdd-9b50-c9c8d6ab149b",
   "metadata": {},
   "source": [
    "[Problem 2] Function corresponding to arbitrary thickness"
   ]
  },
  {
   "cell_type": "code",
   "execution_count": 3,
   "id": "c6217019-9518-4d65-8576-e829e299bc84",
   "metadata": {},
   "outputs": [],
   "source": [
    "def compute_number_of_fold(height, \n",
    "                           thickness = 0.00008):\n",
    "    # formula \n",
    "    fold_times = 0\n",
    "    while True:\n",
    "        thickness = thickness*2\n",
    "        fold_times+=1\n",
    "        if thickness>height:\n",
    "            break    \n",
    "            \n",
    "    return fold_times"
   ]
  },
  {
   "cell_type": "code",
   "execution_count": 4,
   "id": "e524b5ba-a30e-4da1-b73d-e8278b879e83",
   "metadata": {},
   "outputs": [
    {
     "name": "stdout",
     "output_type": "stream",
     "text": [
      "Number of folds =  69\n"
     ]
    }
   ],
   "source": [
    "## test \n",
    "distance_between_sun_and_earth = 4.0175*(10**16) #\"closest non-Sun star\".\n",
    "num_folds = compute_number_of_fold(height=distance_between_sun_and_earth, \n",
    "                                   thickness = 0.00008)\n",
    "\n",
    "print(\"Number of folds = \", num_folds)"
   ]
  },
  {
   "cell_type": "markdown",
   "id": "6d638541-cac6-4778-ad44-ed64c1ee1dc7",
   "metadata": {},
   "source": [
    "[Problem 3] Required paper length"
   ]
  },
  {
   "cell_type": "code",
   "execution_count": 5,
   "id": "3e9e9d64-1233-4ddc-9f3f-72f5c8a9b9c0",
   "metadata": {},
   "outputs": [],
   "source": [
    "def compute_paper_length(number_of_folds, \n",
    "                         thickness = 0.00008):\n",
    "    # formula \n",
    "    pi = math.pi\n",
    "    paper_length = ((pi*thickness)/6)*(2**number_of_folds+4)*(2**number_of_folds-1)\n",
    "\n",
    "    return paper_length"
   ]
  },
  {
   "cell_type": "code",
   "execution_count": 8,
   "id": "e7c0ec27-db99-4639-84bf-048cd17e3e18",
   "metadata": {},
   "outputs": [
    {
     "name": "stdout",
     "output_type": "stream",
     "text": [
      "The paper length to reach Moon = 3240919444170.78 million km.\n"
     ]
    }
   ],
   "source": [
    "### reach Moon #### \n",
    "folds = 43\n",
    "paper_length = compute_paper_length(number_of_folds=folds, \n",
    "                                    thickness = 0.00008)\n",
    "\n",
    "print(f\"The paper length to reach Moon = {round(paper_length/(1000*1000000), 2)} million km.\")"
   ]
  },
  {
   "cell_type": "code",
   "execution_count": 9,
   "id": "d2da830a-cde2-4f6b-918d-6eb8b6baecc9",
   "metadata": {},
   "outputs": [
    {
     "name": "stdout",
     "output_type": "stream",
     "text": [
      "The paper length to reach Proxima Centauri = 1.459580360110035e+28 million km.\n"
     ]
    }
   ],
   "source": [
    "### reach Proxima Centauri #### \n",
    "folds = 69\n",
    "paper_length = compute_paper_length(number_of_folds=folds, \n",
    "                                    thickness = 0.00008)\n",
    "\n",
    "print(f\"The paper length to reach Proxima Centauri = {round(paper_length/(1000*1000000), 2)} million km.\")"
   ]
  }
 ],
 "metadata": {
  "kernelspec": {
   "display_name": "Python 3 (ipykernel)",
   "language": "python",
   "name": "python3"
  },
  "language_info": {
   "codemirror_mode": {
    "name": "ipython",
    "version": 3
   },
   "file_extension": ".py",
   "mimetype": "text/x-python",
   "name": "python",
   "nbconvert_exporter": "python",
   "pygments_lexer": "ipython3",
   "version": "3.12.2"
  }
 },
 "nbformat": 4,
 "nbformat_minor": 5
}
